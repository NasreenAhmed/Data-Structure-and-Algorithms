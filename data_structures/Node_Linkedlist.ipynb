{
  "nbformat": 4,
  "nbformat_minor": 0,
  "metadata": {
    "colab": {
      "name": "Node_Linkedlist.ipynb",
      "provenance": [],
      "collapsed_sections": []
    },
    "kernelspec": {
      "name": "python3",
      "display_name": "Python 3"
    },
    "language_info": {
      "name": "python"
    }
  },
  "cells": [
    {
      "cell_type": "markdown",
      "source": [
        "Source : \n",
        "https://www.tutorialspoint.com/python/python_nodes.htm\n",
        "https://www.tutorialspoint.com/python_data_structure/python_linked_lists.htm"
      ],
      "metadata": {
        "id": "ms1ZLvONT15E"
      }
    },
    {
      "cell_type": "markdown",
      "source": [
        "There are situations when the allocation of memory to store the data cannot  be in a continuous block of memory.So we take help of pointers where  along with the data, the address of the next location of data element is alo stored. So we know the values of the next data elements, from the values of the current data element. In general such structures are known as pointers. But in python we refer to them as nodes.\n",
        "\n",
        "Nodes are the foundations on which various other data structures linked list and trees can be handled in python.\n",
        "\n",
        "# Creation of Nodes\n",
        "\n",
        "The nodes are created by implementing a class which will hold the pointers along  with the data element. In the below example we create a class named `daynames` to hold the names of the weekdays.The `next` pointer is initialized to null."
      ],
      "metadata": {
        "id": "F6WHQydsTxDE"
      }
    },
    {
      "cell_type": "code",
      "execution_count": null,
      "metadata": {
        "id": "R-NO8SBbPFkR"
      },
      "outputs": [],
      "source": [
        "class Daynames:\n",
        "\n",
        "  def __init__(self,data=None):\n",
        "    self.data = data\n",
        "    self.next = None\n",
        "\n",
        "e1 = Daynames('Mon')\n",
        "e2 = Daynames('Tue')\n",
        "e3 = Daynames('Wed')\n",
        "\n",
        "e1.next = e3\n",
        "e3.next = e2"
      ]
    },
    {
      "cell_type": "markdown",
      "source": [
        "### Traversing the Node Elements.\n",
        "\n",
        "We can traverse the elements of the node created above by creating a variable and assigning the first element  to it. Then we  use a while loop and next pointer to bring out all the elements. "
      ],
      "metadata": {
        "id": "t2Oni9DTW8Mr"
      }
    },
    {
      "cell_type": "code",
      "source": [
        "head = e1\n",
        "\n",
        "while head:\n",
        "  print(head.data)\n",
        "  head = head.next"
      ],
      "metadata": {
        "colab": {
          "base_uri": "https://localhost:8080/"
        },
        "id": "kIpd2ZL_Yct9",
        "outputId": "b29d10c2-d172-492d-deea-1f9bfb9e3fbc"
      },
      "execution_count": null,
      "outputs": [
        {
          "output_type": "stream",
          "name": "stdout",
          "text": [
            "Mon\n",
            "Wed\n",
            "Tue\n"
          ]
        }
      ]
    },
    {
      "cell_type": "markdown",
      "source": [
        "# Linked List\n",
        "\n",
        "A linked list list is a sequence of data elements, which are connected via links. Each data element contains a  connnection to another  data element  in the form of a pointer. Python does not have linked list in its standard library. We implement the concept of linked lists using the concept of nodes.\n",
        "\n",
        "In the upcoming section we are going to study the types  of linked lists known as **singly linked list**.  In this type of data structure there is only  one link between any two data elements. We create such a list and create additional methods to insert, update and remove elements from the list.\n",
        "\n",
        "\n",
        "## Creation of Linked List. \n",
        "\n",
        "A linked list  is created using  the node class, as descrbied above. We create a node object and **create another class to use the node object.** We pass the appropriate values through the node object to point the next data elements.  The below program creates the linked list with three data items.\n",
        "\n"
      ],
      "metadata": {
        "id": "XDobMg08aU0z"
      }
    },
    {
      "cell_type": "code",
      "source": [
        "class Node:\n",
        "\n",
        "  def __init__(self,data=None):\n",
        "    self.data = data\n",
        "    self.next = None\n",
        "\n",
        "class SLinkedList:\n",
        "\n",
        "  def __init__(self):\n",
        "    self.head = None\n",
        "\n",
        "list1 = SLinkedList()\n",
        "list1.head = Node(\"Mon\")\n",
        "e2 = Node(\"Tue\")\n",
        "e3 = Node(\"Wed\")\n",
        "\n",
        "\n",
        "#Link first node to the second\n",
        "list1.head.next = e2\n",
        "\n",
        "#Link second node to the third\n",
        "e2.next = e3"
      ],
      "metadata": {
        "id": "IzzMjK7mwpBA"
      },
      "execution_count": null,
      "outputs": []
    },
    {
      "cell_type": "markdown",
      "source": [
        "## Traversing a Linked List\n",
        "\n",
        "Singly Linked List can only be traversed only in the forward direction starting from the first data element. We simply print the value of the next  data element by assigning the pointer of the next node to the current data element ."
      ],
      "metadata": {
        "id": "DPpttARzxULf"
      }
    },
    {
      "cell_type": "code",
      "source": [
        "class Node:\n",
        "\n",
        "  def __init__(self,data=None):\n",
        "    self.data = data\n",
        "    self.next = None\n",
        "\n",
        "class SLinkedList:\n",
        "\n",
        "  def __init__(self):\n",
        "    self.head = None\n",
        "\n",
        "  def listprint(self):\n",
        "    printval = self.head\n",
        "    while printval is not None: \n",
        "      print(printval.data)\n",
        "      printval = printval.next\n",
        "\n",
        "list1 = SLinkedList()\n",
        "list1.head = Node(\"Mon\")\n",
        "e2 = Node(\"Tue\")\n",
        "e3 = Node(\"Wed\")\n",
        "\n",
        "#Link first node to the second\n",
        "list1.head.next = e2\n",
        "\n",
        "#Link second node to the third\n",
        "e2.next = e3\n",
        "\n",
        "list1.listprint()"
      ],
      "metadata": {
        "colab": {
          "base_uri": "https://localhost:8080/"
        },
        "id": "BbSFRkKqxtvY",
        "outputId": "c760f638-8d71-4b4a-9afd-86b26c41fc64"
      },
      "execution_count": null,
      "outputs": [
        {
          "output_type": "stream",
          "name": "stdout",
          "text": [
            "Mon\n",
            "Tue\n",
            "Wed\n"
          ]
        }
      ]
    },
    {
      "cell_type": "markdown",
      "source": [
        "## Insertion in a Linked List\n",
        "\n",
        "Inserting element in the linked list involves reassigning the pointers from the existing nodes to newly inserted node.  Depending on whether  the new element  is getting inserted  at the beginning or at the middle or at the end of linked list, we have the below scenarios.\n",
        "\n",
        "### Inserting at the beginning .\n",
        "\n",
        "This involves pointing the next pointer of the new node to the current head of the linked list. So, the current  head of the linked list becomes the second data element and the new node becomes the head of the linked list. "
      ],
      "metadata": {
        "id": "hF6rzZ7HzLsY"
      }
    },
    {
      "cell_type": "code",
      "source": [
        "class Node:\n",
        "\n",
        "  def __init__(self,data=None):\n",
        "    self.data = data\n",
        "    self.next = None\n",
        "\n",
        "class SLinkedList:\n",
        "\n",
        "  def __init__(self):\n",
        "    self.head = None\n",
        "\n",
        "  def listprint(self):\n",
        "    printval = self.head\n",
        "    while printval is not None: \n",
        "      print(printval.data)\n",
        "      printval = printval.next\n",
        "      \n",
        "  # Inserting a newnode in the beginning of the linked list\n",
        "  def Atbeginning (self,newdata):\n",
        "    NewNode = Node(newdata)\n",
        "    NewNode.next = self.head\n",
        "    self.head = NewNode\n",
        "    #node_prev = self.node\n",
        "    #self.head = NewNode\n",
        "    #node.next = node_prev\n",
        "\n",
        "list1 = SLinkedList()\n",
        "list1.head = Node(\"Mon\")\n",
        "e2 = Node(\"Tue\")\n",
        "e3 = Node(\"Wed\")\n",
        "\n",
        "#Link first node to the second\n",
        "list1.head.next = e2\n",
        "\n",
        "#Link second node to the third\n",
        "e2.next = e3\n",
        "\n",
        "list1.Atbeginning('Sun')\n",
        "list1.listprint()"
      ],
      "metadata": {
        "colab": {
          "base_uri": "https://localhost:8080/"
        },
        "id": "LMKCXe6c9lNX",
        "outputId": "db11ff83-2ad5-45c1-cd7e-035d86f3b757"
      },
      "execution_count": null,
      "outputs": [
        {
          "output_type": "stream",
          "name": "stdout",
          "text": [
            "Sun\n",
            "Mon\n",
            "Tue\n",
            "Wed\n"
          ]
        }
      ]
    },
    {
      "cell_type": "markdown",
      "source": [
        "### Inserting at the end \n",
        "\n",
        "This involves pointing the next pointer of the current last node of the linked list to the new data node. So the current last node, becomes the second last data node and the new node becomes the last node of the linked list."
      ],
      "metadata": {
        "id": "1gGB7N6n-T_1"
      }
    },
    {
      "cell_type": "code",
      "source": [
        "class Node:\n",
        "\n",
        "  def __init__(self,data=None):\n",
        "    self.data = data\n",
        "    self.next = None\n",
        "\n",
        "class SLinkedList:\n",
        "\n",
        "  def __init__(self):\n",
        "    self.head = None\n",
        "\n",
        "  def listprint(self):\n",
        "    printval = self.head\n",
        "    while printval is not None: \n",
        "      print(printval.data)\n",
        "      printval = printval.next\n",
        "\n",
        "  # Inserting new node in the end of the linked list\n",
        "  def Atend(self,newdata):\n",
        "    newnode = Node(newdata)\n",
        "    if self.head is None:\n",
        "      self.head = newnode\n",
        "      return \n",
        "    last = self.head\n",
        "    while last.next is not None:\n",
        "      last = last.next\n",
        "    last.next = newnode\n",
        "\n",
        "list1 = SLinkedList()\n",
        "list1.head = Node(\"Mon\")\n",
        "e2 = Node(\"Tue\")\n",
        "e3 = Node(\"Wed\")\n",
        "\n",
        "#Link first node to the second\n",
        "list1.head.next = e2\n",
        "\n",
        "#Link second node to the third\n",
        "e2.next = e3\n",
        "\n",
        "list1.Atend('Thu')\n",
        "list1.listprint()"
      ],
      "metadata": {
        "colab": {
          "base_uri": "https://localhost:8080/"
        },
        "id": "6fqOycaq_Bd4",
        "outputId": "65745440-9a77-4dac-8dc8-b0a31b46aed6"
      },
      "execution_count": 53,
      "outputs": [
        {
          "output_type": "stream",
          "name": "stdout",
          "text": [
            "Mon\n",
            "Tue\n",
            "Wed\n",
            "Thu\n"
          ]
        }
      ]
    },
    {
      "cell_type": "markdown",
      "source": [
        "### Inserting between two Data Nodes\n",
        "\n",
        "This involves changing the pointer of a specific node to point to the new node.That is possible by passing in both the new node and the existing node after which the new node is to be inserted."
      ],
      "metadata": {
        "id": "Xdf6iS4RARCo"
      }
    },
    {
      "cell_type": "code",
      "source": [
        "class Node:\n",
        "\n",
        "  def __init__(self,data=None):\n",
        "    self.data = data\n",
        "    self.next = None\n",
        "\n",
        "class SLinkedList:\n",
        "\n",
        "  def __init__(self):\n",
        "    self.head = None\n",
        "\n",
        "  def listprint(self):\n",
        "    printval = self.head\n",
        "    while printval is not None: \n",
        "      print(printval.data)\n",
        "      printval = printval.next\n",
        "\n",
        "  # Inserting new node in the middle of the linked list\n",
        "  def IntheMiddle(self,linknode,newdata):\n",
        "    newnode = Node(newdata)\n",
        "    storelink = linknode.next\n",
        "    linknode.next = newnode\n",
        "    newnode.next = storelink\n",
        "\n",
        "\n",
        "list1 = SLinkedList()\n",
        "list1.head = Node(\"Mon\")\n",
        "e2 = Node(\"Tue\")\n",
        "e3 = Node(\"Wed\")\n",
        "\n",
        "#Link first node to the second\n",
        "list1.head.next = e2\n",
        "\n",
        "#Link second node to the third\n",
        "e2.next = e3\n",
        "\n",
        "list1.IntheMiddle(e2,'Fri')\n",
        "list1.listprint()"
      ],
      "metadata": {
        "colab": {
          "base_uri": "https://localhost:8080/"
        },
        "id": "jb6puL92A1RP",
        "outputId": "3ec9da32-6dea-4d8f-d683-7bddc16fe348"
      },
      "execution_count": null,
      "outputs": [
        {
          "output_type": "stream",
          "name": "stdout",
          "text": [
            "Mon\n",
            "Tue\n",
            "Fri\n",
            "Wed\n"
          ]
        }
      ]
    },
    {
      "cell_type": "markdown",
      "source": [
        "## Removing at item\n",
        "\n",
        "We can remove an existing  node using the key for that node. We locate the previous node of the node to be deleted. Then, point the next pointer of this node to the next node  of the node to be deleted. "
      ],
      "metadata": {
        "id": "83JfTiTRBXlG"
      }
    },
    {
      "cell_type": "code",
      "source": [
        "class Node:\n",
        "\n",
        "  def __init__(self,data=None):\n",
        "    self.data = data\n",
        "    self.next = None\n",
        "\n",
        "class SLinkedList:\n",
        "\n",
        "  def __init__(self):\n",
        "    self.head = None\n",
        "\n",
        "  def listprint(self):\n",
        "    item = self.head\n",
        "    while item is not None: \n",
        "      print(item.data)\n",
        "      if item.next is None:\n",
        "        return \n",
        "      item = item.next\n",
        "\n",
        "  # Remove a node from the# linked list\n",
        "  def removenode(self,key):\n",
        "    \n",
        "    item = self.head\n",
        "    if item.data is None:          # first condition, to check if the linkedlist has a node\n",
        "      return \n",
        "    elif item.data == key:                        # second condition to check, if the key to be removed is the head node\n",
        "      self.head = item.next\n",
        "      return\n",
        "    while item.data is not None:   # if both the above conditions are not satisfied, then we traverse    # through the linkedlist to find the node to be removed.\n",
        "      if item.data == key:  \n",
        "        break\n",
        "      prev = item   \n",
        "      item = item.next\n",
        "    if item.data is None:\n",
        "      return\n",
        "    prev.next = item.next \n",
        "          "
      ],
      "metadata": {
        "id": "munqROXBHD_G"
      },
      "execution_count": 89,
      "outputs": []
    },
    {
      "cell_type": "code",
      "source": [
        "list1 = SLinkedList()\n",
        "list1.head = Node(\"Mon\")\n",
        "e2 = Node(\"Tue\")\n",
        "e3 = Node(\"Wed\")\n",
        "e4 = Node(\"Thu\")\n",
        "#Link first node to the second\n",
        "list1.head.next = e2\n",
        "\n",
        "#Link second node to the third\n",
        "e2.next = e3\n",
        "e3.next = e4\n",
        "\n",
        "list1.listprint()"
      ],
      "metadata": {
        "colab": {
          "base_uri": "https://localhost:8080/"
        },
        "id": "l1Ai9PldQc-1",
        "outputId": "090234d1-63f6-47eb-9ae0-3cff9a035a5a"
      },
      "execution_count": 90,
      "outputs": [
        {
          "output_type": "stream",
          "name": "stdout",
          "text": [
            "Mon\n",
            "Tue\n",
            "Wed\n",
            "Thu\n"
          ]
        }
      ]
    },
    {
      "cell_type": "code",
      "source": [
        "# testin the function removenode for all three cases.\n",
        "list1 = SLinkedList()\n",
        "list1.head = Node(\"Mon\")\n",
        "e2 = Node(\"Tue\")\n",
        "e3 = Node(\"Wed\")\n",
        "e4 = Node(\"Thu\")\n",
        "#Link first node to the second\n",
        "list1.head.next = e2\n",
        "\n",
        "#Link second node to the third\n",
        "e2.next = e3\n",
        "e3.next = e4\n",
        "#1. Removing the head of the linkedlist.\n",
        "print(\"Removing head node : \")\n",
        "list1.removenode('Mon')\n",
        "list1.listprint()"
      ],
      "metadata": {
        "colab": {
          "base_uri": "https://localhost:8080/"
        },
        "id": "dr5VeZ0xMuXP",
        "outputId": "04759edc-be9a-4828-901c-85865ee6d5c4"
      },
      "execution_count": 92,
      "outputs": [
        {
          "output_type": "stream",
          "name": "stdout",
          "text": [
            "Removing head node : \n",
            "Tue\n",
            "Wed\n",
            "Thu\n"
          ]
        }
      ]
    },
    {
      "cell_type": "code",
      "source": [
        "list1 = SLinkedList()\n",
        "list1.head = Node(\"Mon\")\n",
        "e2 = Node(\"Tue\")\n",
        "e3 = Node(\"Wed\")\n",
        "e4 = Node(\"Thu\")\n",
        "#Link first node to the second\n",
        "list1.head.next = e2\n",
        "\n",
        "#Link second node to the third\n",
        "e2.next = e3\n",
        "e3.next = e4\n",
        "\n",
        "#2. Removing a node from the middle of the linkedlist.\n",
        "print(\"Removing a node from the middle of the linkedlist\")\n",
        "list1.removenode('Wed')\n",
        "list1.listprint()\n"
      ],
      "metadata": {
        "colab": {
          "base_uri": "https://localhost:8080/"
        },
        "id": "7JVLNIDyMxPh",
        "outputId": "e2e43409-45b6-4176-e8ee-c418716ce597"
      },
      "execution_count": 93,
      "outputs": [
        {
          "output_type": "stream",
          "name": "stdout",
          "text": [
            "Removing a node from the middle of the linkedlist\n",
            "Mon\n",
            "Tue\n",
            "Thu\n"
          ]
        }
      ]
    },
    {
      "cell_type": "code",
      "source": [
        "list1 = SLinkedList()\n",
        "list1.head = Node(\"Mon\")\n",
        "e2 = Node(\"Tue\")\n",
        "e3 = Node(\"Wed\")\n",
        "e4 = Node(\"Thu\")\n",
        "#Link first node to the second\n",
        "list1.head.next = e2\n",
        "\n",
        "#Link second node to the third\n",
        "e2.next = e3\n",
        "e3.next = e4\n",
        "\n",
        "#3. Removing a node from the end of linkedlist.\n",
        "print(\"Removing a node from the middle of the linkedlist\")\n",
        "list1.removenode('Thu')\n",
        "list1.listprint()"
      ],
      "metadata": {
        "colab": {
          "base_uri": "https://localhost:8080/"
        },
        "id": "QkrNH9irMxYZ",
        "outputId": "cc644375-b835-41c3-b96a-96138c2c77b7"
      },
      "execution_count": 79,
      "outputs": [
        {
          "output_type": "stream",
          "name": "stdout",
          "text": [
            "Removing a node from the middle of the linkedlist\n",
            "Mon\n",
            "Tue\n",
            "Wed\n"
          ]
        }
      ]
    }
  ]
}